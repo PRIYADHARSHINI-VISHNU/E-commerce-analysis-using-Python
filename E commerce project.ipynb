{
 "cells": [
  {
   "cell_type": "code",
   "execution_count": null,
   "id": "1cf957f5-22a0-4c81-8c46-9a65f7295e38",
   "metadata": {},
   "outputs": [],
   "source": [
    "import pandas as pd\n",
    "\n",
    "import plotly.express as px\n",
    "import plotly.graph_objects as go\n",
    "import plotly.io as pio\n",
    "import plotly.colors as colors\n",
    "pio.templates.default = 'plotly_white'"
   ]
  },
  {
   "cell_type": "code",
   "execution_count": null,
   "id": "5fa6e04c-b80b-4146-a8ac-eee82b784c2f",
   "metadata": {},
   "outputs": [],
   "source": [
    "data = pd.read_csv(\"Sample - Superstore.csv\", encoding = 'latin-1')"
   ]
  },
  {
   "cell_type": "code",
   "execution_count": null,
   "id": "b084fe29-f046-4f6c-82f4-d62280619bc1",
   "metadata": {},
   "outputs": [],
   "source": [
    "#data.head(5)"
   ]
  },
  {
   "cell_type": "code",
   "execution_count": null,
   "id": "5a5cc0cc-8004-4472-b188-bc1ce644c4dc",
   "metadata": {},
   "outputs": [],
   "source": [
    "#data.describe()"
   ]
  },
  {
   "cell_type": "code",
   "execution_count": null,
   "id": "54e3af8d-a3c8-4b4c-baa5-3397e1682e80",
   "metadata": {
    "scrolled": true
   },
   "outputs": [],
   "source": [
    "#data.info()"
   ]
  },
  {
   "cell_type": "markdown",
   "id": "ed4da776-f291-4031-8929-821ee4304354",
   "metadata": {},
   "source": [
    "# Converting date columns"
   ]
  },
  {
   "cell_type": "code",
   "execution_count": null,
   "id": "49532c1a-2f67-482d-b505-f435af540a5e",
   "metadata": {},
   "outputs": [],
   "source": [
    "data['Order Date'] = pd.to_datetime(data['Order Date'])"
   ]
  },
  {
   "cell_type": "code",
   "execution_count": null,
   "id": "7bc971a7-cdd6-4455-943c-511d47f0106e",
   "metadata": {},
   "outputs": [],
   "source": [
    "data['Ship Date'] = pd.to_datetime(data['Ship Date'])"
   ]
  },
  {
   "cell_type": "code",
   "execution_count": null,
   "id": "89371cd6-8eb0-467b-b5e0-53bf9c31fbcc",
   "metadata": {},
   "outputs": [],
   "source": [
    "#data.info()"
   ]
  },
  {
   "cell_type": "code",
   "execution_count": null,
   "id": "3e174220-fb07-4dc4-867a-0b17d5dd8548",
   "metadata": {},
   "outputs": [],
   "source": [
    "data['Order Month'] = data['Order Date'].dt.month\n",
    "data['Order Year'] = data['Order Date'].dt.year\n",
    "data['Order Day of Week'] = data['Order Date'].dt.dayofweek"
   ]
  },
  {
   "cell_type": "code",
   "execution_count": null,
   "id": "6368056d-4754-4b68-a7dd-aa2435407771",
   "metadata": {},
   "outputs": [],
   "source": [
    "#data.head(5)"
   ]
  },
  {
   "cell_type": "markdown",
   "id": "5d105c58-25fa-48e2-af83-931117c5c0ff",
   "metadata": {},
   "source": [
    "# Monthly Sales Analysis"
   ]
  },
  {
   "cell_type": "code",
   "execution_count": null,
   "id": "5df48bdf-c3fc-4372-b559-ec4677b1e5e3",
   "metadata": {},
   "outputs": [],
   "source": [
    "sales_by_month = data.groupby('Order Month')['Sales'].sum().reset_index()\n",
    "#sales_by_month"
   ]
  },
  {
   "cell_type": "code",
   "execution_count": null,
   "id": "a144208d-67c2-4836-b680-8be1c69dc861",
   "metadata": {},
   "outputs": [],
   "source": [
    "fig = px.line(sales_by_month,\n",
    "              x='Order Month',\n",
    "              y='Sales',\n",
    "              title = 'Monthly Sales Analysis')\n",
    "fig.show()"
   ]
  },
  {
   "cell_type": "markdown",
   "id": "623e7af2-db31-4fc6-8bcd-3f4ebb7f448b",
   "metadata": {},
   "source": [
    "# Sales by Category"
   ]
  },
  {
   "cell_type": "code",
   "execution_count": null,
   "id": "d38b4499-e06b-4c21-816b-408c94f7f5d2",
   "metadata": {},
   "outputs": [],
   "source": [
    "sales_by_category = data.groupby('Category')['Sales'].sum().reset_index()\n",
    "#sales_by_category"
   ]
  },
  {
   "cell_type": "code",
   "execution_count": null,
   "id": "a9b81a02-41a6-4d17-ae17-4fa698c5f35f",
   "metadata": {},
   "outputs": [],
   "source": [
    "fig1 = px.pie(sales_by_category,\n",
    "              values = 'Sales',\n",
    "              names = 'Category',\n",
    "              title = 'Sales by Category')\n",
    "fig1.show()"
   ]
  },
  {
   "cell_type": "markdown",
   "id": "edfb65cc-d826-4b26-82e1-af4f0d4fdd1d",
   "metadata": {},
   "source": [
    "# Sales by Sub-Category"
   ]
  },
  {
   "cell_type": "code",
   "execution_count": null,
   "id": "18aa81de-24fc-4747-8a92-420dcc1dba6d",
   "metadata": {},
   "outputs": [],
   "source": [
    "sales_by_subcategory = data.groupby('Sub-Category')['Sales'].sum().reset_index()\n",
    "#sales_by_subcategory"
   ]
  },
  {
   "cell_type": "code",
   "execution_count": null,
   "id": "45887593-454e-47b8-86fc-ec395ede0916",
   "metadata": {},
   "outputs": [],
   "source": [
    "fig2 = px.bar(sales_by_subcategory,\n",
    "              x = 'Sub-Category',\n",
    "              y = 'Sales',\n",
    "              title = 'Sales by Sub-Category')\n",
    "fig2.show()"
   ]
  },
  {
   "cell_type": "markdown",
   "id": "3c05e4db-613d-42d5-9eb2-193d87c19816",
   "metadata": {},
   "source": [
    "# Monthly Profit Anaysis"
   ]
  },
  {
   "cell_type": "code",
   "execution_count": null,
   "id": "f3ecde6a-e7b6-4d74-b56d-da32079fe6b7",
   "metadata": {},
   "outputs": [],
   "source": [
    "profit_by_month = data.groupby('Order Month')['Profit'].sum().reset_index()\n",
    "#profit_by_month"
   ]
  },
  {
   "cell_type": "code",
   "execution_count": null,
   "id": "573b4809-a0a3-44ad-b800-cee319cb905b",
   "metadata": {},
   "outputs": [],
   "source": [
    "fig3 = px.line(profit_by_month,\n",
    "               x = 'Order Month',\n",
    "               y = 'Profit',\n",
    "               title = 'Monthly Profit Analysis')\n",
    "fig3.show()"
   ]
  },
  {
   "cell_type": "markdown",
   "id": "f3bb9c78-9521-4060-a64a-aea1cf9a3b70",
   "metadata": {},
   "source": [
    "# Profit by Category"
   ]
  },
  {
   "cell_type": "code",
   "execution_count": null,
   "id": "537d523c-6d7d-4fc7-8967-db613d3d1bab",
   "metadata": {},
   "outputs": [],
   "source": [
    "profit_by_category = data.groupby('Category')['Profit'].sum().reset_index()\n",
    "#profit_by_category"
   ]
  },
  {
   "cell_type": "code",
   "execution_count": null,
   "id": "43211dd8-a488-4b4c-984e-c8c790e1d0eb",
   "metadata": {},
   "outputs": [],
   "source": [
    "fig4 = px.pie(profit_by_category,\n",
    "              values = 'Profit',\n",
    "              names = 'Category',\n",
    "              title = 'Profit by Category')\n",
    "fig4.show()"
   ]
  },
  {
   "cell_type": "markdown",
   "id": "fb0cf904-09ba-4005-a9eb-d5fce46b0bb1",
   "metadata": {},
   "source": [
    "# Sales and profit - Customer segment"
   ]
  },
  {
   "cell_type": "code",
   "execution_count": null,
   "id": "319d8ad1-ff42-431c-a505-16a81fbda0d1",
   "metadata": {},
   "outputs": [],
   "source": [
    "sales_profit_by_segment = data.groupby('Segment').agg({'Sales': 'sum', 'Profit': 'sum'}).reset_index()\n",
    "\n",
    "color_palette = colors.qualitative.Pastel\n",
    "\n",
    "fig = go.Figure()\n",
    "fig.add_trace(go.Bar(x=sales_profit_by_segment['Segment'], \n",
    "                     y=sales_profit_by_segment['Sales'], \n",
    "                     name='Sales',\n",
    "                     marker_color=color_palette[0]))\n",
    "\n",
    "fig.add_trace(go.Bar(x=sales_profit_by_segment['Segment'], \n",
    "                     y=sales_profit_by_segment['Profit'], \n",
    "                     name='Profit',\n",
    "                     marker_color=color_palette[1]))\n",
    "\n",
    "fig.update_layout(title='Sales and Profit Analysis by Customer Segment',\n",
    "                  xaxis_title='Customer Segment', yaxis_title='Amount')\n",
    "\n",
    "fig.show()"
   ]
  },
  {
   "cell_type": "markdown",
   "id": "9e4a7245-2e50-4de0-b95f-64a6bc328f32",
   "metadata": {},
   "source": [
    "# Sales to profit ratio"
   ]
  },
  {
   "cell_type": "code",
   "execution_count": null,
   "id": "b76aa490-7080-4021-a68e-3055b1e71d5a",
   "metadata": {},
   "outputs": [],
   "source": [
    "sales_profit_by_segment = data.groupby('Segment').agg({'Sales': 'sum', 'Profit': 'sum'}).reset_index()\n",
    "sales_profit_by_segment['Sales_to_Profit_Ratio'] = sales_profit_by_segment['Sales'] / sales_profit_by_segment['Profit']\n",
    "print(sales_profit_by_segment[['Segment', 'Sales_to_Profit_Ratio']])"
   ]
  }
 ],
 "metadata": {
  "kernelspec": {
   "display_name": "Python 3 (ipykernel)",
   "language": "python",
   "name": "python3"
  },
  "language_info": {
   "codemirror_mode": {
    "name": "ipython",
    "version": 3
   },
   "file_extension": ".py",
   "mimetype": "text/x-python",
   "name": "python",
   "nbconvert_exporter": "python",
   "pygments_lexer": "ipython3",
   "version": "3.12.6"
  }
 },
 "nbformat": 4,
 "nbformat_minor": 5
}
